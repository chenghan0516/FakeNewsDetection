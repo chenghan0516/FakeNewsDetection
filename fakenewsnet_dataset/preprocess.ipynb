{
 "cells": [
  {
   "cell_type": "code",
   "execution_count": null,
   "source": [
    "import pandas as pd\r\n",
    "import re\r\n",
    "subject = \"gossipcop\"\r\n",
    "dataset = pd.read_csv(\"{}.csv\".format(subject))\r\n",
    "print(f\"Total sample: {len(dataset)}\")"
   ],
   "outputs": [],
   "metadata": {}
  },
  {
   "cell_type": "markdown",
   "source": [
    "#清除空值"
   ],
   "metadata": {}
  },
  {
   "cell_type": "code",
   "execution_count": null,
   "source": [
    "bothNull = dataset.loc[dataset.title.isnull() & dataset.text.isnull()]\r\n",
    "print(f\"Both null count: {len(bothNull)}\")\r\n",
    "dataset.drop(bothNull.index, inplace=True)"
   ],
   "outputs": [],
   "metadata": {}
  },
  {
   "cell_type": "markdown",
   "source": [
    "#清除內容重複的新聞"
   ],
   "metadata": {}
  },
  {
   "cell_type": "code",
   "execution_count": null,
   "source": [
    "# Filter dupliacted text\r\n",
    "remove = dataset.loc[dataset.duplicated(subset=['text'])]\r\n",
    "print(f\"Duplicate text: {len(remove)}\")\r\n",
    "duplicate = dataset.loc[dataset.duplicated(subset=['text'], keep=False)]\r\n",
    "print(duplicate.title.value_counts())\r\n",
    "print(duplicate.dropna(subset=['text']).text.map(\r\n",
    "    lambda x: x[:50]).value_counts())\r\n",
    "dataset.drop(remove.index, inplace=True)"
   ],
   "outputs": [],
   "metadata": {}
  },
  {
   "cell_type": "markdown",
   "source": [
    "##輸出重複新聞的內容"
   ],
   "metadata": {}
  },
  {
   "cell_type": "code",
   "execution_count": null,
   "source": [
    "for _, i in duplicate.iterrows():\r\n",
    "    temp = duplicate[duplicate['text'] == i.text]\r\n",
    "    print(temp)\r\n",
    "    break"
   ],
   "outputs": [],
   "metadata": {}
  },
  {
   "cell_type": "markdown",
   "source": [
    "#去除標題和內文的任何URL"
   ],
   "metadata": {}
  },
  {
   "cell_type": "code",
   "execution_count": null,
   "source": [
    "url = re.compile(r'https?://[a-zA-Z0-9.?/&=:]*', re.S)\r\n",
    "buffer = dataset\r\n",
    "for i, r in buffer.iterrows():\r\n",
    "    # print(i)\r\n",
    "    if pd.notna(buffer.loc[i, \"title\"]):\r\n",
    "        buffer.loc[i, \"title\"] = url.sub(\"\", buffer[\"title\"][i])\r\n",
    "    if pd.notna(buffer.loc[i, \"text\"]):\r\n",
    "        buffer.loc[i, \"text\"] = url.sub(\"\", buffer[\"text\"][i])\r\n",
    "dataset = buffer"
   ],
   "outputs": [],
   "metadata": {}
  },
  {
   "cell_type": "markdown",
   "source": [
    "#輸出clean檔案"
   ],
   "metadata": {}
  },
  {
   "cell_type": "code",
   "execution_count": null,
   "source": [
    "print(f\"After preprocessing: {len(dataset)}\")\r\n",
    "dataset.to_csv(\"{}_clean.csv\".format(subject), index=False)"
   ],
   "outputs": [],
   "metadata": {}
  }
 ],
 "metadata": {
  "orig_nbformat": 4,
  "language_info": {
   "name": "python"
  }
 },
 "nbformat": 4,
 "nbformat_minor": 2
}