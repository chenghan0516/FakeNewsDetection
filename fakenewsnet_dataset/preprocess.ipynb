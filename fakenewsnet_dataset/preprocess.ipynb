{
 "cells": [
  {
   "cell_type": "code",
   "execution_count": 1,
   "metadata": {},
   "outputs": [
    {
     "name": "stdout",
     "output_type": "stream",
     "text": [
      "Total sample: 1021\n"
     ]
    }
   ],
   "source": [
    "import pandas as pd\n",
    "import re\n",
    "subject = \"politifact\"\n",
    "dataset = pd.read_csv(\"{}.csv\".format(subject))\n",
    "print(f\"Total sample: {len(dataset)}\")"
   ]
  },
  {
   "cell_type": "markdown",
   "metadata": {},
   "source": [
    "#清除空值"
   ]
  },
  {
   "cell_type": "code",
   "execution_count": 2,
   "metadata": {},
   "outputs": [
    {
     "name": "stdout",
     "output_type": "stream",
     "text": [
      "Null count: 117\n"
     ]
    }
   ],
   "source": [
    "# bothNull = dataset.loc[dataset.title.isnull() & dataset.text.isnull()]\n",
    "textNull = dataset.loc[dataset.text.isnull()]\n",
    "print(f\"Null count: {len(textNull)}\")\n",
    "dataset.drop(textNull.index, inplace=True)"
   ]
  },
  {
   "cell_type": "markdown",
   "metadata": {},
   "source": [
    "#清除內容重複的新聞"
   ]
  },
  {
   "cell_type": "code",
   "execution_count": 3,
   "metadata": {},
   "outputs": [
    {
     "name": "stdout",
     "output_type": "stream",
     "text": [
      "Duplicate text: 156\n",
      "Wayback Machine                                                                                                                                                                                             61\n",
      "CQ.com                                                                                                                                                                                                      17\n",
      "Outlook, Office, Skype, Bing, Breaking News, and Latest Videos                                                                                                                                              13\n",
      "Political TV Ad Archive » PolAd                                                                                                                                                                              4\n",
      "LexisNexis(R) Publisher                                                                                                                                                                                      4\n",
      "                                                                                                                                                                                                            ..\n",
      "New York Man Wanted For Infecting 240 Men And Women With HIV!!!                                                                                                                                              1\n",
      "Actress Sandra Bullock to Hillary Clinton if You Don't Like Our President You Can Leave and Never Come Back Again You Are One Jealous Woman Who Ls Nothing to Compare With Trump I Hope He Will Arrest Y     1\n",
      "Public Views on Health Care Overhaul Top Week's News                                                                                                                                                         1\n",
      "SportFella.COM is for sale                                                                                                                                                                                   1\n",
      "GroopSpeak.COM is for sale                                                                                                                                                                                   1\n",
      "Name: title, Length: 65, dtype: int64\n",
      "The Wayback Machine requires your browser to suppo                    61\n",
      "Need help? Contact the CQ Hotline at (800) 678-851                    17\n",
      "About Trendolizer™\\r\\n\\r\\nTrendolizer™ (patent pending                13\n",
      "You are using an older browser version. Please use                    11\n",
      "For full functionality of this site it is necessar                     7\n",
      "Yes you can transfer your domain to any registrar                      5\n",
      "Use this guide to help you find the full text of r                     5\n",
      "The .gov means it's official. Federal government w                     4\n",
      "COPYRIGHT © 2005 LexisNexis, a division of Reed El                     4\n",
      "Tweet with a location\\r\\n\\r\\nYou can add location info                 4\n",
      "This is rightly a big issue in Ohio. And I have la                     3\n",
      "Support the kind of journalism done by the NewsHou                     3\n",
      "10 things to know about McCain\\r\\n\\r\\nFor all the cove                 3\n",
      "News Releases\\r\\n\\r\\nPayroll employment declines by 14                 3\n",
      "About the Dataset\\r\\n\\r\\nThe Political TV Ad Archive,                  2\n",
      "Knox College\\r\\n\\r\\nGalesburg, Illinois\\r\\n\\r\\n12:13 P.M.              2\n",
      "The domain politicono.com may be for sale. Please                      2\n",
      "Listing out the Reason Why Concerts in San Antonio                     2\n",
      "By PolitiFact staff\\r\\n\\r\\nPolitiFact is annotating th                 2\n",
      "pick a name for your first meme group                                  2\n",
      "July 25, 2010  -- TAPPER: Secretary Geithner than                     2\n",
      "In his press conference on March 11, 2011, Preside                     2\n",
      "LIVE VIDEO Joe Biden to be sworn in as 46th presid                     2\n",
      "The candidates wives were in attendance for the mo                     2\n",
      "Home\\r\\n\\r\\ngpo.gov\\r\\n\\r\\ngovinfo.gov\\r\\n\\r\\ne-CFR Navigation         2\n",
      "Rose Garden\\r\\n\\r\\n5:35 P.M. EDT\\r\\n\\r\\nMR. BARDEN: Hello.             2\n",
      "Congressional Quarterly has studied the voting beh                     2\n",
      "Full text: Jeff Flake on Trump speech transcript\\r\\n                   2\n",
      "On Sunday, former President Bill Clinton — whose w                     2\n",
      "Remarks of Senator Barack Obama: The Past Versus t                     2\n",
      "Ohio Sen. Rob Portman has been busy in Washington                      2\n",
      "(APPLAUSE)\\r\\n\\r\\nShe has made history not just becaus                 2\n",
      "Resource Not Available\\r\\n\\r\\nThe page you requested c                 2\n",
      "Clinton said, \"Trump Management was charged with d                     2\n",
      "METHODOLOGY: The totals on these charts are calcul                     2\n",
      "About This Show\\r\\n\\r\\nFrom the country’s major politi                 2\n",
      "\\r\\n\\r\\n\\r\\n\\r\\n\\r\\n\\r\\nReturn to Transcripts main page\\r\\n\\r\\nCNN     2\n",
      "Monthly and yearly energy forecasts, analysis of e                     2\n",
      "About the Show\\r\\n\\r\\nThe Colbert Report\\r\\n\\r\\nAs America             2\n",
      "Email or Phone Password Forgot account? Log In\\r\\n\\r\\n                 2\n",
      "Account Suspended\\r\\n\\r\\nThis Account has been suspend                 2\n",
      "Name: text, dtype: int64\n"
     ]
    }
   ],
   "source": [
    "# Filter dupliacted text\n",
    "remove = dataset.loc[dataset.duplicated(subset=['text'])]\n",
    "print(f\"Duplicate text: {len(remove)}\")\n",
    "duplicate = dataset.loc[dataset.duplicated(subset=['text'], keep=False)]\n",
    "print(duplicate.title.value_counts())\n",
    "print(duplicate.dropna(subset=['text']).text.map(\n",
    "    lambda x: x[:50]).value_counts())\n",
    "dataset.drop(remove.index, inplace=True)"
   ]
  },
  {
   "cell_type": "markdown",
   "metadata": {},
   "source": [
    "##輸出重複新聞的內容"
   ]
  },
  {
   "cell_type": "code",
   "execution_count": 4,
   "metadata": {},
   "outputs": [
    {
     "name": "stdout",
     "output_type": "stream",
     "text": [
      "      title                                               text  label\n",
      "1    CQ.com  Need help? Contact the CQ Hotline at (800) 678...    1.0\n",
      "92   CQ.com  Need help? Contact the CQ Hotline at (800) 678...    1.0\n",
      "107  CQ.com  Need help? Contact the CQ Hotline at (800) 678...    1.0\n",
      "133  CQ.com  Need help? Contact the CQ Hotline at (800) 678...    1.0\n",
      "214  CQ.com  Need help? Contact the CQ Hotline at (800) 678...    1.0\n",
      "253  CQ.com  Need help? Contact the CQ Hotline at (800) 678...    1.0\n",
      "254  CQ.com  Need help? Contact the CQ Hotline at (800) 678...    1.0\n",
      "261  CQ.com  Need help? Contact the CQ Hotline at (800) 678...    1.0\n",
      "283  CQ.com  Need help? Contact the CQ Hotline at (800) 678...    1.0\n",
      "310  CQ.com  Need help? Contact the CQ Hotline at (800) 678...    1.0\n",
      "343  CQ.com  Need help? Contact the CQ Hotline at (800) 678...    1.0\n",
      "358  CQ.com  Need help? Contact the CQ Hotline at (800) 678...    1.0\n",
      "371  CQ.com  Need help? Contact the CQ Hotline at (800) 678...    1.0\n",
      "419  CQ.com  Need help? Contact the CQ Hotline at (800) 678...    1.0\n",
      "502  CQ.com  Need help? Contact the CQ Hotline at (800) 678...    1.0\n",
      "537  CQ.com  Need help? Contact the CQ Hotline at (800) 678...    1.0\n",
      "604  CQ.com  Need help? Contact the CQ Hotline at (800) 678...    1.0\n"
     ]
    }
   ],
   "source": [
    "for _, i in duplicate.iterrows():\n",
    "    temp = duplicate[duplicate['text'] == i.text]\n",
    "    print(temp)\n",
    "    break"
   ]
  },
  {
   "cell_type": "markdown",
   "metadata": {},
   "source": [
    "#去除標題和內文的任何URL"
   ]
  },
  {
   "cell_type": "code",
   "execution_count": 5,
   "metadata": {},
   "outputs": [],
   "source": [
    "url = re.compile(r'https?://[a-zA-Z0-9.?/&=:]*', re.S)\n",
    "buffer = dataset\n",
    "for i, r in buffer.iterrows():\n",
    "    # print(i)\n",
    "    if pd.notna(buffer.loc[i, \"title\"]):\n",
    "        buffer.loc[i, \"title\"] = url.sub(\"\", buffer[\"title\"][i])\n",
    "    if pd.notna(buffer.loc[i, \"text\"]):\n",
    "        buffer.loc[i, \"text\"] = url.sub(\"\", buffer[\"text\"][i])\n",
    "dataset = buffer"
   ]
  },
  {
   "cell_type": "markdown",
   "metadata": {},
   "source": [
    "#輸出clean檔案"
   ]
  },
  {
   "cell_type": "code",
   "execution_count": 6,
   "metadata": {},
   "outputs": [
    {
     "name": "stdout",
     "output_type": "stream",
     "text": [
      "After preprocessing: 748\n"
     ]
    }
   ],
   "source": [
    "print(f\"After preprocessing: {len(dataset)}\")\n",
    "dataset.to_csv(\"../{}_clean.csv\".format(subject), index=False)"
   ]
  }
 ],
 "metadata": {
  "interpreter": {
   "hash": "06bff3640104d7166c4cc2d79636f440b0fe01853d9ecc14ddcee834f3b9c6ce"
  },
  "kernelspec": {
   "display_name": "Python 3.8.10 64-bit ('FND_venv': venv)",
   "name": "python3"
  },
  "language_info": {
   "codemirror_mode": {
    "name": "ipython",
    "version": 3
   },
   "file_extension": ".py",
   "mimetype": "text/x-python",
   "name": "python",
   "nbconvert_exporter": "python",
   "pygments_lexer": "ipython3",
   "version": "3.8.10"
  },
  "orig_nbformat": 4
 },
 "nbformat": 4,
 "nbformat_minor": 2
}
